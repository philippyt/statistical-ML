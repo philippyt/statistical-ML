{
 "cells": [
  {
   "cell_type": "code",
   "execution_count": 1,
   "metadata": {
    "collapsed": true
   },
   "outputs": [],
   "source": [
    "import numpy as np\n",
    "import pandas as pd\n",
    "from math import log"
   ]
  },
  {
   "cell_type": "code",
   "execution_count": 13,
   "outputs": [],
   "source": [
    "def create_data():\n",
    "    datasets = [['young', 'no', 'no', 'fair', 'no'],\n",
    "               ['young', 'no', 'no', 'good', 'no'],\n",
    "               ['young', 'yes', 'no', 'good', 'yes'],\n",
    "               ['young', 'yes', 'yes', 'fair', 'yes'],\n",
    "               ['young', 'no', 'no', 'fair', 'no'],\n",
    "               ['middle-aged', 'no', 'no', 'fair', 'no'],\n",
    "               ['middle-aged', 'no', 'no', 'good', 'no'],\n",
    "               ['middle-aged', 'yes', 'yes', 'good', 'yes'],\n",
    "               ['middle-aged', 'no', 'yes', 'excellent', 'yes'],\n",
    "               ['middle-aged', 'no', 'yes', 'excellent', 'yes'],\n",
    "               ['senior', 'no', 'yes', 'excellent', 'yes'],\n",
    "               ['senior', 'no', 'yes', 'good', 'yes'],\n",
    "               ['senior', 'yes', 'no', 'good', 'yes'],\n",
    "               ['senior', 'yes', 'no', 'excellent', 'yes'],\n",
    "               ['senior', 'no', 'no', 'fair', 'no'],\n",
    "               ]\n",
    "    labels = ['age', 'employed', 'homeowner', 'credit rating', 'class']\n",
    "    return datasets, labels"
   ],
   "metadata": {
    "collapsed": false
   }
  },
  {
   "cell_type": "code",
   "execution_count": 14,
   "outputs": [],
   "source": [
    "datasets, labels = create_data()"
   ],
   "metadata": {
    "collapsed": false
   }
  },
  {
   "cell_type": "code",
   "execution_count": 15,
   "outputs": [],
   "source": [
    "train_data = pd.DataFrame(datasets, columns=labels)"
   ],
   "metadata": {
    "collapsed": false
   }
  },
  {
   "cell_type": "code",
   "execution_count": 16,
   "outputs": [
    {
     "data": {
      "text/plain": "            age employed homeowner credit rating class\n0         young       no        no          fair    no\n1         young       no        no          good    no\n2         young      yes        no          good   yes\n3         young      yes       yes          fair   yes\n4         young       no        no          fair    no\n5   middle-aged       no        no          fair    no\n6   middle-aged       no        no          good    no\n7   middle-aged      yes       yes          good   yes\n8   middle-aged       no       yes     excellent   yes\n9   middle-aged       no       yes     excellent   yes\n10       senior       no       yes     excellent   yes\n11       senior       no       yes          good   yes\n12       senior      yes        no          good   yes\n13       senior      yes        no     excellent   yes\n14       senior       no        no          fair    no",
      "text/html": "<div>\n<style scoped>\n    .dataframe tbody tr th:only-of-type {\n        vertical-align: middle;\n    }\n\n    .dataframe tbody tr th {\n        vertical-align: top;\n    }\n\n    .dataframe thead th {\n        text-align: right;\n    }\n</style>\n<table border=\"1\" class=\"dataframe\">\n  <thead>\n    <tr style=\"text-align: right;\">\n      <th></th>\n      <th>age</th>\n      <th>employed</th>\n      <th>homeowner</th>\n      <th>credit rating</th>\n      <th>class</th>\n    </tr>\n  </thead>\n  <tbody>\n    <tr>\n      <th>0</th>\n      <td>young</td>\n      <td>no</td>\n      <td>no</td>\n      <td>fair</td>\n      <td>no</td>\n    </tr>\n    <tr>\n      <th>1</th>\n      <td>young</td>\n      <td>no</td>\n      <td>no</td>\n      <td>good</td>\n      <td>no</td>\n    </tr>\n    <tr>\n      <th>2</th>\n      <td>young</td>\n      <td>yes</td>\n      <td>no</td>\n      <td>good</td>\n      <td>yes</td>\n    </tr>\n    <tr>\n      <th>3</th>\n      <td>young</td>\n      <td>yes</td>\n      <td>yes</td>\n      <td>fair</td>\n      <td>yes</td>\n    </tr>\n    <tr>\n      <th>4</th>\n      <td>young</td>\n      <td>no</td>\n      <td>no</td>\n      <td>fair</td>\n      <td>no</td>\n    </tr>\n    <tr>\n      <th>5</th>\n      <td>middle-aged</td>\n      <td>no</td>\n      <td>no</td>\n      <td>fair</td>\n      <td>no</td>\n    </tr>\n    <tr>\n      <th>6</th>\n      <td>middle-aged</td>\n      <td>no</td>\n      <td>no</td>\n      <td>good</td>\n      <td>no</td>\n    </tr>\n    <tr>\n      <th>7</th>\n      <td>middle-aged</td>\n      <td>yes</td>\n      <td>yes</td>\n      <td>good</td>\n      <td>yes</td>\n    </tr>\n    <tr>\n      <th>8</th>\n      <td>middle-aged</td>\n      <td>no</td>\n      <td>yes</td>\n      <td>excellent</td>\n      <td>yes</td>\n    </tr>\n    <tr>\n      <th>9</th>\n      <td>middle-aged</td>\n      <td>no</td>\n      <td>yes</td>\n      <td>excellent</td>\n      <td>yes</td>\n    </tr>\n    <tr>\n      <th>10</th>\n      <td>senior</td>\n      <td>no</td>\n      <td>yes</td>\n      <td>excellent</td>\n      <td>yes</td>\n    </tr>\n    <tr>\n      <th>11</th>\n      <td>senior</td>\n      <td>no</td>\n      <td>yes</td>\n      <td>good</td>\n      <td>yes</td>\n    </tr>\n    <tr>\n      <th>12</th>\n      <td>senior</td>\n      <td>yes</td>\n      <td>no</td>\n      <td>good</td>\n      <td>yes</td>\n    </tr>\n    <tr>\n      <th>13</th>\n      <td>senior</td>\n      <td>yes</td>\n      <td>no</td>\n      <td>excellent</td>\n      <td>yes</td>\n    </tr>\n    <tr>\n      <th>14</th>\n      <td>senior</td>\n      <td>no</td>\n      <td>no</td>\n      <td>fair</td>\n      <td>no</td>\n    </tr>\n  </tbody>\n</table>\n</div>"
     },
     "execution_count": 16,
     "metadata": {},
     "output_type": "execute_result"
    }
   ],
   "source": [
    "train_data"
   ],
   "metadata": {
    "collapsed": false
   }
  },
  {
   "cell_type": "code",
   "execution_count": 17,
   "outputs": [],
   "source": [
    "def calc_ent(datasets):\n",
    "    data_length = len(datasets)\n",
    "    label_count = {}\n",
    "    for i in range(data_length):\n",
    "        label = datasets[i][-1]\n",
    "        if label not in label_count:\n",
    "            label_count[label] = 0\n",
    "        label_count[label] += 1\n",
    "    ent = -sum([(p/data_length)*log(p/data_length, 2) for p in label_count.values()])\n",
    "    return ent\n",
    "\n",
    "def cond_ent(datasets, axis=0):\n",
    "    data_length = len(datasets)\n",
    "    feature_sets = {}\n",
    "    for i in range(data_length):\n",
    "        feature = datasets[i][axis]\n",
    "        if feature not in feature_sets:\n",
    "            feature_sets[feature] = []\n",
    "        feature_sets[feature].append(datasets[i])\n",
    "    cond_ent = sum([(len(p)/data_length)*calc_ent(p) for p in feature_sets.values()])\n",
    "    return cond_ent\n",
    "\n",
    "def info_gain(ent, cond_ent):\n",
    "    return ent - cond_ent\n",
    "\n",
    "def info_gain_train(datasets):\n",
    "    count = len(datasets[0]) - 1\n",
    "    ent = calc_ent(datasets)\n",
    "    best_feature = []\n",
    "    for c in range(count):\n",
    "        c_info_gain = info_gain(ent, cond_ent(datasets, axis=c))\n",
    "        best_feature.append((c, c_info_gain))\n",
    "        print('Feature ({}) - info_gain - {:.3f}'.format(labels[c], c_info_gain))\n",
    "    best_ = max(best_feature, key=lambda x: x[-1])\n",
    "    return 'Feature ({}) has the highest information gain, selected as the root node feature'.format(labels[best_[0]])"
   ],
   "metadata": {
    "collapsed": false
   }
  },
  {
   "cell_type": "code",
   "execution_count": 18,
   "outputs": [
    {
     "name": "stdout",
     "output_type": "stream",
     "text": [
      "Feature (age) - info_gain - 0.083\n",
      "Feature (employed) - info_gain - 0.324\n",
      "Feature (homeowner) - info_gain - 0.420\n",
      "Feature (credit rating) - info_gain - 0.363\n"
     ]
    },
    {
     "data": {
      "text/plain": "'Feature (homeowner) has the highest information gain, selected as the root node feature'"
     },
     "execution_count": 18,
     "metadata": {},
     "output_type": "execute_result"
    }
   ],
   "source": [
    "info_gain_train(np.array(datasets))"
   ],
   "metadata": {
    "collapsed": false
   }
  },
  {
   "cell_type": "code",
   "execution_count": 19,
   "outputs": [],
   "source": [
    "class Node:\n",
    "    def __init__(self, root=True, label=None, feature_name=None, feature=None):\n",
    "        self.root = root\n",
    "        self.label = label\n",
    "        self.feature_name = feature_name\n",
    "        self.feature = feature\n",
    "        self.tree = {}\n",
    "        self.result = {'label:': self.label, 'feature': self.feature, 'tree': self.tree}\n",
    "\n",
    "    def __repr__(self):\n",
    "        return '{}'.format(self.result)\n",
    "\n",
    "    def add_node(self, val, node):\n",
    "        self.tree[val] = node\n",
    "\n",
    "    def predict(self, features):\n",
    "        if self.root is True:\n",
    "            return self.label\n",
    "        return self.tree[features[self.feature]].predict(features)\n",
    "\n",
    "class DTree:\n",
    "    def __init__(self, epsilon=0.1):\n",
    "        self.epsilon = epsilon\n",
    "        self._tree = {}\n",
    "\n",
    "    @staticmethod\n",
    "    def calc_ent(datasets):\n",
    "        data_length = len(datasets)\n",
    "        label_count = {}\n",
    "        for i in range(data_length):\n",
    "            label = datasets[i][-1]\n",
    "            if label not in label_count:\n",
    "                label_count[label] = 0\n",
    "            label_count[label] += 1\n",
    "        ent = -sum([(p/data_length)*log(p/data_length, 2) for p in label_count.values()])\n",
    "        return ent\n",
    "\n",
    "    def cond_ent(self, datasets, axis=0):\n",
    "        data_length = len(datasets)\n",
    "        feature_sets = {}\n",
    "        for i in range(data_length):\n",
    "            feature = datasets[i][axis]\n",
    "            if feature not in feature_sets:\n",
    "                feature_sets[feature] = []\n",
    "            feature_sets[feature].append(datasets[i])\n",
    "        cond_ent = sum([(len(p)/data_length)*self.calc_ent(p) for p in feature_sets.values()])\n",
    "        return cond_ent\n",
    "\n",
    "    @staticmethod\n",
    "    def info_gain(ent, cond_ent):\n",
    "        return ent - cond_ent\n",
    "\n",
    "    def info_gain_train(self, datasets):\n",
    "        count = len(datasets[0]) - 1\n",
    "        ent = self.calc_ent(datasets)\n",
    "        best_feature = []\n",
    "        for c in range(count):\n",
    "            c_info_gain = self.info_gain(ent, self.cond_ent(datasets, axis=c))\n",
    "            best_feature.append((c, c_info_gain))\n",
    "        best_ = max(best_feature, key=lambda x: x[-1])\n",
    "        return best_\n",
    "\n",
    "    def train(self, train_data):\n",
    "        _, y_train, features = train_data.iloc[:, :-1], train_data.iloc[:, -1], train_data.columns[:-1]\n",
    "        if len(y_train.value_counts()) == 1:\n",
    "            return Node(root=True,\n",
    "                        label=y_train.iloc[0])\n",
    "\n",
    "        if len(features) == 0:\n",
    "            return Node(root=True, label=y_train.value_counts().sort_values(ascending=False).index[0])\n",
    "\n",
    "        max_feature, max_info_gain = self.info_gain_train(np.array(train_data))\n",
    "        max_feature_name = features[max_feature]\n",
    "\n",
    "        if max_info_gain < self.epsilon:\n",
    "            return Node(root=True, label=y_train.value_counts().sort_values(ascending=False).index[0])\n",
    "\n",
    "        node_tree = Node(root=False, feature_name=max_feature_name, feature=max_feature)\n",
    "\n",
    "        feature_list = train_data[max_feature_name].value_counts().index\n",
    "        for f in feature_list:\n",
    "            sub_train_df = train_data.loc[train_data[max_feature_name] == f].drop([max_feature_name], axis=1)\n",
    "\n",
    "            sub_tree = self.train(sub_train_df)\n",
    "            node_tree.add_node(f, sub_tree)\n",
    "\n",
    "        return node_tree\n",
    "\n",
    "    def fit(self, train_data):\n",
    "        self._tree = self.train(train_data)\n",
    "        return self._tree\n",
    "\n",
    "    def predict(self, X_test):\n",
    "        return self._tree.predict(X_test)"
   ],
   "metadata": {
    "collapsed": false
   }
  },
  {
   "cell_type": "code",
   "execution_count": 20,
   "outputs": [],
   "source": [
    "datasets, labels = create_data()\n",
    "data_df = pd.DataFrame(datasets, columns=labels)\n",
    "dt = DTree()\n",
    "tree = dt.fit(data_df)"
   ],
   "metadata": {
    "collapsed": false
   }
  },
  {
   "cell_type": "code",
   "execution_count": 21,
   "outputs": [
    {
     "data": {
      "text/plain": "{'label:': None, 'feature': 2, 'tree': {'no': {'label:': None, 'feature': 1, 'tree': {'no': {'label:': 'no', 'feature': None, 'tree': {}}, 'yes': {'label:': 'yes', 'feature': None, 'tree': {}}}}, 'yes': {'label:': 'yes', 'feature': None, 'tree': {}}}}"
     },
     "execution_count": 21,
     "metadata": {},
     "output_type": "execute_result"
    }
   ],
   "source": [
    "tree"
   ],
   "metadata": {
    "collapsed": false
   }
  },
  {
   "cell_type": "code",
   "execution_count": 24,
   "outputs": [
    {
     "data": {
      "text/plain": "'yes'"
     },
     "execution_count": 24,
     "metadata": {},
     "output_type": "execute_result"
    }
   ],
   "source": [
    "dt.predict(['young', 'yes', 'no', 'fair'])"
   ],
   "metadata": {
    "collapsed": false
   }
  }
 ],
 "metadata": {
  "kernelspec": {
   "display_name": "Python 3",
   "language": "python",
   "name": "python3"
  },
  "language_info": {
   "codemirror_mode": {
    "name": "ipython",
    "version": 2
   },
   "file_extension": ".py",
   "mimetype": "text/x-python",
   "name": "python",
   "nbconvert_exporter": "python",
   "pygments_lexer": "ipython2",
   "version": "2.7.6"
  }
 },
 "nbformat": 4,
 "nbformat_minor": 0
}
